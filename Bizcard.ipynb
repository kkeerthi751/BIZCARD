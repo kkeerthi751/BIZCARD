{
  "nbformat": 4,
  "nbformat_minor": 0,
  "metadata": {
    "colab": {
      "provenance": []
    },
    "kernelspec": {
      "name": "python3",
      "display_name": "Python 3"
    },
    "language_info": {
      "name": "python"
    }
  },
  "cells": [
    {
      "cell_type": "code",
      "execution_count": 1,
      "metadata": {
        "colab": {
          "base_uri": "https://localhost:8080/"
        },
        "id": "LKhLz-IznLvu",
        "outputId": "a31fca70-0027-408b-ec2b-2e869c18d3b7"
      },
      "outputs": [
        {
          "output_type": "stream",
          "name": "stdout",
          "text": [
            "Collecting easyocr\n",
            "  Downloading easyocr-1.7.1-py3-none-any.whl (2.9 MB)\n",
            "\u001b[2K     \u001b[90m━━━━━━━━━━━━━━━━━━━━━━━━━━━━━━━━━━━━━━━━\u001b[0m \u001b[32m2.9/2.9 MB\u001b[0m \u001b[31m10.7 MB/s\u001b[0m eta \u001b[36m0:00:00\u001b[0m\n",
            "\u001b[?25hRequirement already satisfied: torch in /usr/local/lib/python3.10/dist-packages (from easyocr) (2.0.1+cu118)\n",
            "Requirement already satisfied: torchvision>=0.5 in /usr/local/lib/python3.10/dist-packages (from easyocr) (0.15.2+cu118)\n",
            "Requirement already satisfied: opencv-python-headless in /usr/local/lib/python3.10/dist-packages (from easyocr) (4.8.0.76)\n",
            "Requirement already satisfied: scipy in /usr/local/lib/python3.10/dist-packages (from easyocr) (1.11.2)\n",
            "Requirement already satisfied: numpy in /usr/local/lib/python3.10/dist-packages (from easyocr) (1.23.5)\n",
            "Requirement already satisfied: Pillow in /usr/local/lib/python3.10/dist-packages (from easyocr) (9.4.0)\n",
            "Requirement already satisfied: scikit-image in /usr/local/lib/python3.10/dist-packages (from easyocr) (0.19.3)\n",
            "Collecting python-bidi (from easyocr)\n",
            "  Downloading python_bidi-0.4.2-py2.py3-none-any.whl (30 kB)\n",
            "Requirement already satisfied: PyYAML in /usr/local/lib/python3.10/dist-packages (from easyocr) (6.0.1)\n",
            "Requirement already satisfied: Shapely in /usr/local/lib/python3.10/dist-packages (from easyocr) (2.0.1)\n",
            "Collecting pyclipper (from easyocr)\n",
            "  Downloading pyclipper-1.3.0.post5-cp310-cp310-manylinux_2_12_x86_64.manylinux2010_x86_64.whl (908 kB)\n",
            "\u001b[2K     \u001b[90m━━━━━━━━━━━━━━━━━━━━━━━━━━━━━━━━━━━━━━\u001b[0m \u001b[32m908.3/908.3 kB\u001b[0m \u001b[31m20.4 MB/s\u001b[0m eta \u001b[36m0:00:00\u001b[0m\n",
            "\u001b[?25hCollecting ninja (from easyocr)\n",
            "  Downloading ninja-1.11.1-py2.py3-none-manylinux_2_12_x86_64.manylinux2010_x86_64.whl (145 kB)\n",
            "\u001b[2K     \u001b[90m━━━━━━━━━━━━━━━━━━━━━━━━━━━━━━━━━━━━━━\u001b[0m \u001b[32m146.0/146.0 kB\u001b[0m \u001b[31m12.8 MB/s\u001b[0m eta \u001b[36m0:00:00\u001b[0m\n",
            "\u001b[?25hRequirement already satisfied: requests in /usr/local/lib/python3.10/dist-packages (from torchvision>=0.5->easyocr) (2.31.0)\n",
            "Requirement already satisfied: filelock in /usr/local/lib/python3.10/dist-packages (from torch->easyocr) (3.12.2)\n",
            "Requirement already satisfied: typing-extensions in /usr/local/lib/python3.10/dist-packages (from torch->easyocr) (4.5.0)\n",
            "Requirement already satisfied: sympy in /usr/local/lib/python3.10/dist-packages (from torch->easyocr) (1.12)\n",
            "Requirement already satisfied: networkx in /usr/local/lib/python3.10/dist-packages (from torch->easyocr) (3.1)\n",
            "Requirement already satisfied: jinja2 in /usr/local/lib/python3.10/dist-packages (from torch->easyocr) (3.1.2)\n",
            "Requirement already satisfied: triton==2.0.0 in /usr/local/lib/python3.10/dist-packages (from torch->easyocr) (2.0.0)\n",
            "Requirement already satisfied: cmake in /usr/local/lib/python3.10/dist-packages (from triton==2.0.0->torch->easyocr) (3.27.4.1)\n",
            "Requirement already satisfied: lit in /usr/local/lib/python3.10/dist-packages (from triton==2.0.0->torch->easyocr) (16.0.6)\n",
            "Requirement already satisfied: six in /usr/local/lib/python3.10/dist-packages (from python-bidi->easyocr) (1.16.0)\n",
            "Requirement already satisfied: imageio>=2.4.1 in /usr/local/lib/python3.10/dist-packages (from scikit-image->easyocr) (2.31.3)\n",
            "Requirement already satisfied: tifffile>=2019.7.26 in /usr/local/lib/python3.10/dist-packages (from scikit-image->easyocr) (2023.8.30)\n",
            "Requirement already satisfied: PyWavelets>=1.1.1 in /usr/local/lib/python3.10/dist-packages (from scikit-image->easyocr) (1.4.1)\n",
            "Requirement already satisfied: packaging>=20.0 in /usr/local/lib/python3.10/dist-packages (from scikit-image->easyocr) (23.1)\n",
            "Requirement already satisfied: MarkupSafe>=2.0 in /usr/local/lib/python3.10/dist-packages (from jinja2->torch->easyocr) (2.1.3)\n",
            "Requirement already satisfied: charset-normalizer<4,>=2 in /usr/local/lib/python3.10/dist-packages (from requests->torchvision>=0.5->easyocr) (3.2.0)\n",
            "Requirement already satisfied: idna<4,>=2.5 in /usr/local/lib/python3.10/dist-packages (from requests->torchvision>=0.5->easyocr) (3.4)\n",
            "Requirement already satisfied: urllib3<3,>=1.21.1 in /usr/local/lib/python3.10/dist-packages (from requests->torchvision>=0.5->easyocr) (2.0.4)\n",
            "Requirement already satisfied: certifi>=2017.4.17 in /usr/local/lib/python3.10/dist-packages (from requests->torchvision>=0.5->easyocr) (2023.7.22)\n",
            "Requirement already satisfied: mpmath>=0.19 in /usr/local/lib/python3.10/dist-packages (from sympy->torch->easyocr) (1.3.0)\n",
            "Installing collected packages: pyclipper, ninja, python-bidi, easyocr\n",
            "Successfully installed easyocr-1.7.1 ninja-1.11.1 pyclipper-1.3.0.post5 python-bidi-0.4.2\n"
          ]
        }
      ],
      "source": [
        "pip install easyocr\n"
      ]
    },
    {
      "cell_type": "code",
      "source": [
        "pip install regex"
      ],
      "metadata": {
        "colab": {
          "base_uri": "https://localhost:8080/"
        },
        "id": "ngqPCHTGn0TV",
        "outputId": "8e805604-9d94-4f75-c230-6e142684b90d"
      },
      "execution_count": 2,
      "outputs": [
        {
          "output_type": "stream",
          "name": "stdout",
          "text": [
            "Requirement already satisfied: regex in /usr/local/lib/python3.10/dist-packages (2023.6.3)\n"
          ]
        }
      ]
    },
    {
      "cell_type": "code",
      "source": [
        "import easyocr\n",
        "import regex as re"
      ],
      "metadata": {
        "id": "rPYnEFUQn05C"
      },
      "execution_count": 3,
      "outputs": []
    },
    {
      "cell_type": "code",
      "source": [
        "reader = easyocr.Reader(['ch_sim','en'])"
      ],
      "metadata": {
        "colab": {
          "base_uri": "https://localhost:8080/"
        },
        "id": "1UBpLO9En1Dg",
        "outputId": "100dcef5-cda5-46b9-9c3b-09f984a47344"
      },
      "execution_count": 4,
      "outputs": [
        {
          "output_type": "stream",
          "name": "stderr",
          "text": [
            "WARNING:easyocr.easyocr:Neither CUDA nor MPS are available - defaulting to CPU. Note: This module is much faster with a GPU.\n",
            "WARNING:easyocr.easyocr:Downloading detection model, please wait. This may take several minutes depending upon your network connection.\n"
          ]
        },
        {
          "output_type": "stream",
          "name": "stdout",
          "text": [
            "Progress: |██████████████████████████████████████████████████| 100.0% Complete"
          ]
        },
        {
          "output_type": "stream",
          "name": "stderr",
          "text": [
            "WARNING:easyocr.easyocr:Downloading recognition model, please wait. This may take several minutes depending upon your network connection.\n"
          ]
        },
        {
          "output_type": "stream",
          "name": "stdout",
          "text": [
            "Progress: |██████████████████████████████████████████████████| 100.0% Complete"
          ]
        }
      ]
    },
    {
      "cell_type": "code",
      "source": [
        "result1 = reader.readtext('/content/1.png',detail=0)\n",
        "print(result1)"
      ],
      "metadata": {
        "colab": {
          "base_uri": "https://localhost:8080/"
        },
        "id": "lGBqViTcoKLa",
        "outputId": "3e7c6d1f-576e-4e6c-948a-db9119d85d45"
      },
      "execution_count": 7,
      "outputs": [
        {
          "output_type": "stream",
          "name": "stdout",
          "text": [
            "['Selva', 'DATA MANAGER', '+123-456-7890', '+123-456-7891', 'WWW.XYZI.com', 'hello@XYZI.com', '123 ABC St Chennai,', 'SelVa', 'TamilNadu 600113', 'digitals']\n"
          ]
        }
      ]
    },
    {
      "cell_type": "code",
      "source": [
        "result2 = reader.readtext('2.png',detail=0)\n",
        "print(result2)"
      ],
      "metadata": {
        "colab": {
          "base_uri": "https://localhost:8080/"
        },
        "id": "Ov43jZIZoKXS",
        "outputId": "2fd36aef-0efb-4473-a3c8-2142f6b65532"
      },
      "execution_count": 8,
      "outputs": [
        {
          "output_type": "stream",
          "name": "stdout",
          "text": [
            "['Amit Kumar', 'CEO & FOUNDER', '123-456-7569', 'hello@global.com', 'TTT', 'global.com', '123 global', 'Erode;', 'GLOBAL', 'TamilNadu 600115', 'INSURANCE', 'St;']\n"
          ]
        }
      ]
    },
    {
      "cell_type": "code",
      "source": [
        "result3 = reader.readtext('3.png',detail=0)\n",
        "print(result3)"
      ],
      "metadata": {
        "colab": {
          "base_uri": "https://localhost:8080/"
        },
        "id": "twYMReqDqALC",
        "outputId": "23cba513-5ab5-42de-b870-754afbc9b171"
      },
      "execution_count": 9,
      "outputs": [
        {
          "output_type": "stream",
          "name": "stdout",
          "text": [
            "['KARTHICK', 'General Manager', '123 ABC St , Salem,', 'TamilNadu 6004513', '+123-456-7890', 'hello@Borcelle.com', 'WWW. Borcelle.com', 'BORCELCE', 'AIRLINES']\n"
          ]
        }
      ]
    },
    {
      "cell_type": "code",
      "source": [
        "result4 = reader.readtext('4.png',detail=0)\n",
        "print(result4)"
      ],
      "metadata": {
        "colab": {
          "base_uri": "https://localhost:8080/"
        },
        "id": "lbf_NguHqAUE",
        "outputId": "aba72a6a-bdda-40db-fda0-884441c16804"
      },
      "execution_count": 10,
      "outputs": [
        {
          "output_type": "stream",
          "name": "stdout",
          "text": [
            "['REVANTH', 'Marketing Executive', '123 ABC St. HYDRABAD, TamilNadu,', '600001', '+91-456-1234', 'hello@CHRISTMAS.com', 'Family', 'WWW.CHRISTMAS.com', 'Restaurant']\n"
          ]
        }
      ]
    },
    {
      "cell_type": "code",
      "source": [
        "result5 = reader.readtext('5.png',detail=0)\n",
        "print(result5)"
      ],
      "metadata": {
        "colab": {
          "base_uri": "https://localhost:8080/"
        },
        "id": "ZuQxETVWqAuX",
        "outputId": "4f0d8c0c-cb56-403a-8323-1ef5a15ed175"
      },
      "execution_count": 11,
      "outputs": [
        {
          "output_type": "stream",
          "name": "stdout",
          "text": [
            "['SANTHOSH', 'Technical Manager', '123 ABC St, Tirupur, TamilNadu;', '641603', '+123-456-1234', 'hello@Sun.com', 'WWWSun.com', 'Sun Electricals']\n"
          ]
        }
      ]
    },
    {
      "cell_type": "code",
      "source": [
        "def phno(img):\n",
        "  num = []\n",
        "  for i in img:\n",
        "    if re.findall(r'^[+]',i):\n",
        "      num.append(i)\n",
        "    elif(re.findall(r'^\\d{3}-\\d{3}-\\d{4}$',i)):\n",
        "      num.append(i)\n",
        "  return num"
      ],
      "metadata": {
        "id": "GRqBQ0UhqQSk"
      },
      "execution_count": 12,
      "outputs": []
    },
    {
      "cell_type": "code",
      "source": [
        "def email(img):\n",
        "  for i in img:\n",
        "    if(re.findall(r'[\\w\\.-]+@[\\w\\.-]+',i)):\n",
        "      return i"
      ],
      "metadata": {
        "id": "8cR0WgrEqQcJ"
      },
      "execution_count": 13,
      "outputs": []
    },
    {
      "cell_type": "code",
      "source": [
        "def website(img):\n",
        "  website = \"\"\n",
        "  for i in img:\n",
        "    if re.match(r'^WWW(?=.*\\.com)', i):\n",
        "      website = i\n",
        "    elif re.match(r'^\\w+\\.com$', i):\n",
        "      website = ('WWW.'+i)\n",
        "  if len(website) ==0:\n",
        "    website = \"Not Available\"\n",
        "  else:\n",
        "    return website"
      ],
      "metadata": {
        "id": "Qx7Z9QhPqQfq"
      },
      "execution_count": 15,
      "outputs": []
    },
    {
      "cell_type": "code",
      "source": [
        "def name(img):\n",
        "  for i in img:\n",
        "    return i"
      ],
      "metadata": {
        "id": "Rwli4-FKqQjM"
      },
      "execution_count": 16,
      "outputs": []
    },
    {
      "cell_type": "code",
      "source": [
        "def designation(img):\n",
        "  for i in img:\n",
        "    return img[1]"
      ],
      "metadata": {
        "id": "LAEWPX9-qhJK"
      },
      "execution_count": 17,
      "outputs": []
    },
    {
      "cell_type": "code",
      "source": [
        "def address(img):\n",
        "  for i in img:\n",
        "    if(re.findall(r'^123+\\s[\\w\\.-]+',i)):\n",
        "      return i[0:10]"
      ],
      "metadata": {
        "id": "dlteTXqUqhLw"
      },
      "execution_count": 18,
      "outputs": []
    },
    {
      "cell_type": "code",
      "source": [
        "def domain(img):\n",
        "  for i in img[-1]:\n",
        "    if len(img[-1])> 5:\n",
        "      return img[-1]\n",
        "    else:\n",
        "      return img[-2]"
      ],
      "metadata": {
        "id": "qZ-P0fjBqhO7"
      },
      "execution_count": 19,
      "outputs": []
    },
    {
      "cell_type": "code",
      "source": [
        "def district(img):\n",
        "  for i in img:\n",
        "    if(re.search(r'^123+\\s',i)):\n",
        "      if len(i[10:20])> 6:\n",
        "        return i[11:20].replace(\",\",\"\")\n",
        "    elif (re.search(r'\\bErode\\b',i)):\n",
        "      return i.replace(\";\",\"\")\n",
        "  return \"Not Available\""
      ],
      "metadata": {
        "id": "wz3IpUdKqhRF"
      },
      "execution_count": 20,
      "outputs": []
    },
    {
      "cell_type": "code",
      "source": [
        "def pincode(img):\n",
        "    pincode = None\n",
        "    for i in img:\n",
        "        pincode_match = re.search(r'(\\d{6})|\\b(\\d{3}\\s*\\d{3})\\b', i)\n",
        "        if pincode_match:\n",
        "            pincode = pincode_match.group(0).replace(' ', '')\n",
        "    return pincode"
      ],
      "metadata": {
        "id": "RrRY74y0qhSy"
      },
      "execution_count": 21,
      "outputs": []
    },
    {
      "cell_type": "code",
      "source": [
        "def state(img):\n",
        "    for i in img:\n",
        "        match = re.search(r'TamilNadu', i)\n",
        "        if match:\n",
        "            return match.group()\n",
        "    return \"Not found\""
      ],
      "metadata": {
        "id": "tZJCPbXGqhUr"
      },
      "execution_count": 22,
      "outputs": []
    },
    {
      "cell_type": "code",
      "source": [
        "#create a dictionary with all the data\n",
        "def data(img):\n",
        "  data = {}\n",
        "  data['Name'] = name(img)\n",
        "  data['Designation'] = designation(img)\n",
        "  data['Domain'] = domain(img)\n",
        "  data['Contact'] = phno(img)\n",
        "  data['E-mail'] = email(img)\n",
        "  data['Website'] = website(img)\n",
        "  data['Address'] = address(img)\n",
        "  data['District'] = district(img)\n",
        "  data['State'] = state(img)\n",
        "  data['Pincode'] = pincode(img)\n",
        "  return data"
      ],
      "metadata": {
        "id": "A0YZU5yfq1nv"
      },
      "execution_count": 23,
      "outputs": []
    },
    {
      "cell_type": "code",
      "source": [
        "import pandas as pd"
      ],
      "metadata": {
        "id": "wPnIZR7-q1sV"
      },
      "execution_count": 24,
      "outputs": []
    },
    {
      "cell_type": "code",
      "source": [
        "df_1 = pd.DataFrame(data(result1))\n",
        "\n",
        "df_2 = pd.DataFrame(data(result2))\n",
        "df_3 = pd.DataFrame(data(result3))\n",
        "df_4 = pd.DataFrame(data(result4))\n",
        "df_5 = pd.DataFrame(data(result5))"
      ],
      "metadata": {
        "id": "39ZDhimYq1xw"
      },
      "execution_count": 25,
      "outputs": []
    },
    {
      "cell_type": "code",
      "source": [
        "df = pd.concat([df_1,df_2,df_3,df_4,df_5])"
      ],
      "metadata": {
        "id": "71yaSlPGqhYV"
      },
      "execution_count": 26,
      "outputs": []
    },
    {
      "cell_type": "code",
      "source": [
        "df.to_csv('Extracted_data.csv',index=False)\n",
        "\n",
        "extract_data=pd.read_csv('Extracted_data.csv')\n",
        "extract_data"
      ],
      "metadata": {
        "colab": {
          "base_uri": "https://localhost:8080/",
          "height": 341
        },
        "id": "gJhTCCbkrC3z",
        "outputId": "9606ff1f-b3b3-4283-d99a-e7fb07f40bcb"
      },
      "execution_count": 27,
      "outputs": [
        {
          "output_type": "execute_result",
          "data": {
            "text/plain": [
              "         Name          Designation           Domain        Contact  \\\n",
              "0       Selva         DATA MANAGER         digitals  +123-456-7890   \n",
              "1       Selva         DATA MANAGER         digitals  +123-456-7891   \n",
              "2  Amit Kumar        CEO & FOUNDER        INSURANCE   123-456-7569   \n",
              "3    KARTHICK      General Manager         AIRLINES  +123-456-7890   \n",
              "4     REVANTH  Marketing Executive       Restaurant   +91-456-1234   \n",
              "5    SANTHOSH    Technical Manager  Sun Electricals  +123-456-1234   \n",
              "\n",
              "                E-mail            Website     Address   District      State  \\\n",
              "0       hello@XYZI.com       WWW.XYZI.com  123 ABC St    Chennai  TamilNadu   \n",
              "1       hello@XYZI.com       WWW.XYZI.com  123 ABC St    Chennai  TamilNadu   \n",
              "2     hello@global.com     WWW.global.com  123 global      Erode  TamilNadu   \n",
              "3   hello@Borcelle.com  WWW. Borcelle.com  123 ABC St      Salem  TamilNadu   \n",
              "4  hello@CHRISTMAS.com  WWW.CHRISTMAS.com  123 ABC St   HYDRABAD  TamilNadu   \n",
              "5        hello@Sun.com         WWWSun.com  123 ABC St    Tirupur  TamilNadu   \n",
              "\n",
              "   Pincode  \n",
              "0   600113  \n",
              "1   600113  \n",
              "2   600115  \n",
              "3   600451  \n",
              "4   600001  \n",
              "5   641603  "
            ],
            "text/html": [
              "\n",
              "  <div id=\"df-045a6aaf-a367-4c17-b671-c864d176684d\" class=\"colab-df-container\">\n",
              "    <div>\n",
              "<style scoped>\n",
              "    .dataframe tbody tr th:only-of-type {\n",
              "        vertical-align: middle;\n",
              "    }\n",
              "\n",
              "    .dataframe tbody tr th {\n",
              "        vertical-align: top;\n",
              "    }\n",
              "\n",
              "    .dataframe thead th {\n",
              "        text-align: right;\n",
              "    }\n",
              "</style>\n",
              "<table border=\"1\" class=\"dataframe\">\n",
              "  <thead>\n",
              "    <tr style=\"text-align: right;\">\n",
              "      <th></th>\n",
              "      <th>Name</th>\n",
              "      <th>Designation</th>\n",
              "      <th>Domain</th>\n",
              "      <th>Contact</th>\n",
              "      <th>E-mail</th>\n",
              "      <th>Website</th>\n",
              "      <th>Address</th>\n",
              "      <th>District</th>\n",
              "      <th>State</th>\n",
              "      <th>Pincode</th>\n",
              "    </tr>\n",
              "  </thead>\n",
              "  <tbody>\n",
              "    <tr>\n",
              "      <th>0</th>\n",
              "      <td>Selva</td>\n",
              "      <td>DATA MANAGER</td>\n",
              "      <td>digitals</td>\n",
              "      <td>+123-456-7890</td>\n",
              "      <td>hello@XYZI.com</td>\n",
              "      <td>WWW.XYZI.com</td>\n",
              "      <td>123 ABC St</td>\n",
              "      <td>Chennai</td>\n",
              "      <td>TamilNadu</td>\n",
              "      <td>600113</td>\n",
              "    </tr>\n",
              "    <tr>\n",
              "      <th>1</th>\n",
              "      <td>Selva</td>\n",
              "      <td>DATA MANAGER</td>\n",
              "      <td>digitals</td>\n",
              "      <td>+123-456-7891</td>\n",
              "      <td>hello@XYZI.com</td>\n",
              "      <td>WWW.XYZI.com</td>\n",
              "      <td>123 ABC St</td>\n",
              "      <td>Chennai</td>\n",
              "      <td>TamilNadu</td>\n",
              "      <td>600113</td>\n",
              "    </tr>\n",
              "    <tr>\n",
              "      <th>2</th>\n",
              "      <td>Amit Kumar</td>\n",
              "      <td>CEO &amp; FOUNDER</td>\n",
              "      <td>INSURANCE</td>\n",
              "      <td>123-456-7569</td>\n",
              "      <td>hello@global.com</td>\n",
              "      <td>WWW.global.com</td>\n",
              "      <td>123 global</td>\n",
              "      <td>Erode</td>\n",
              "      <td>TamilNadu</td>\n",
              "      <td>600115</td>\n",
              "    </tr>\n",
              "    <tr>\n",
              "      <th>3</th>\n",
              "      <td>KARTHICK</td>\n",
              "      <td>General Manager</td>\n",
              "      <td>AIRLINES</td>\n",
              "      <td>+123-456-7890</td>\n",
              "      <td>hello@Borcelle.com</td>\n",
              "      <td>WWW. Borcelle.com</td>\n",
              "      <td>123 ABC St</td>\n",
              "      <td>Salem</td>\n",
              "      <td>TamilNadu</td>\n",
              "      <td>600451</td>\n",
              "    </tr>\n",
              "    <tr>\n",
              "      <th>4</th>\n",
              "      <td>REVANTH</td>\n",
              "      <td>Marketing Executive</td>\n",
              "      <td>Restaurant</td>\n",
              "      <td>+91-456-1234</td>\n",
              "      <td>hello@CHRISTMAS.com</td>\n",
              "      <td>WWW.CHRISTMAS.com</td>\n",
              "      <td>123 ABC St</td>\n",
              "      <td>HYDRABAD</td>\n",
              "      <td>TamilNadu</td>\n",
              "      <td>600001</td>\n",
              "    </tr>\n",
              "    <tr>\n",
              "      <th>5</th>\n",
              "      <td>SANTHOSH</td>\n",
              "      <td>Technical Manager</td>\n",
              "      <td>Sun Electricals</td>\n",
              "      <td>+123-456-1234</td>\n",
              "      <td>hello@Sun.com</td>\n",
              "      <td>WWWSun.com</td>\n",
              "      <td>123 ABC St</td>\n",
              "      <td>Tirupur</td>\n",
              "      <td>TamilNadu</td>\n",
              "      <td>641603</td>\n",
              "    </tr>\n",
              "  </tbody>\n",
              "</table>\n",
              "</div>\n",
              "    <div class=\"colab-df-buttons\">\n",
              "\n",
              "  <div class=\"colab-df-container\">\n",
              "    <button class=\"colab-df-convert\" onclick=\"convertToInteractive('df-045a6aaf-a367-4c17-b671-c864d176684d')\"\n",
              "            title=\"Convert this dataframe to an interactive table.\"\n",
              "            style=\"display:none;\">\n",
              "\n",
              "  <svg xmlns=\"http://www.w3.org/2000/svg\" height=\"24px\" viewBox=\"0 -960 960 960\">\n",
              "    <path d=\"M120-120v-720h720v720H120Zm60-500h600v-160H180v160Zm220 220h160v-160H400v160Zm0 220h160v-160H400v160ZM180-400h160v-160H180v160Zm440 0h160v-160H620v160ZM180-180h160v-160H180v160Zm440 0h160v-160H620v160Z\"/>\n",
              "  </svg>\n",
              "    </button>\n",
              "\n",
              "  <style>\n",
              "    .colab-df-container {\n",
              "      display:flex;\n",
              "      gap: 12px;\n",
              "    }\n",
              "\n",
              "    .colab-df-convert {\n",
              "      background-color: #E8F0FE;\n",
              "      border: none;\n",
              "      border-radius: 50%;\n",
              "      cursor: pointer;\n",
              "      display: none;\n",
              "      fill: #1967D2;\n",
              "      height: 32px;\n",
              "      padding: 0 0 0 0;\n",
              "      width: 32px;\n",
              "    }\n",
              "\n",
              "    .colab-df-convert:hover {\n",
              "      background-color: #E2EBFA;\n",
              "      box-shadow: 0px 1px 2px rgba(60, 64, 67, 0.3), 0px 1px 3px 1px rgba(60, 64, 67, 0.15);\n",
              "      fill: #174EA6;\n",
              "    }\n",
              "\n",
              "    .colab-df-buttons div {\n",
              "      margin-bottom: 4px;\n",
              "    }\n",
              "\n",
              "    [theme=dark] .colab-df-convert {\n",
              "      background-color: #3B4455;\n",
              "      fill: #D2E3FC;\n",
              "    }\n",
              "\n",
              "    [theme=dark] .colab-df-convert:hover {\n",
              "      background-color: #434B5C;\n",
              "      box-shadow: 0px 1px 3px 1px rgba(0, 0, 0, 0.15);\n",
              "      filter: drop-shadow(0px 1px 2px rgba(0, 0, 0, 0.3));\n",
              "      fill: #FFFFFF;\n",
              "    }\n",
              "  </style>\n",
              "\n",
              "    <script>\n",
              "      const buttonEl =\n",
              "        document.querySelector('#df-045a6aaf-a367-4c17-b671-c864d176684d button.colab-df-convert');\n",
              "      buttonEl.style.display =\n",
              "        google.colab.kernel.accessAllowed ? 'block' : 'none';\n",
              "\n",
              "      async function convertToInteractive(key) {\n",
              "        const element = document.querySelector('#df-045a6aaf-a367-4c17-b671-c864d176684d');\n",
              "        const dataTable =\n",
              "          await google.colab.kernel.invokeFunction('convertToInteractive',\n",
              "                                                    [key], {});\n",
              "        if (!dataTable) return;\n",
              "\n",
              "        const docLinkHtml = 'Like what you see? Visit the ' +\n",
              "          '<a target=\"_blank\" href=https://colab.research.google.com/notebooks/data_table.ipynb>data table notebook</a>'\n",
              "          + ' to learn more about interactive tables.';\n",
              "        element.innerHTML = '';\n",
              "        dataTable['output_type'] = 'display_data';\n",
              "        await google.colab.output.renderOutput(dataTable, element);\n",
              "        const docLink = document.createElement('div');\n",
              "        docLink.innerHTML = docLinkHtml;\n",
              "        element.appendChild(docLink);\n",
              "      }\n",
              "    </script>\n",
              "  </div>\n",
              "\n",
              "\n",
              "<div id=\"df-1f585711-6d21-4f8f-b3f1-a048a3703930\">\n",
              "  <button class=\"colab-df-quickchart\" onclick=\"quickchart('df-1f585711-6d21-4f8f-b3f1-a048a3703930')\"\n",
              "            title=\"Suggest charts.\"\n",
              "            style=\"display:none;\">\n",
              "\n",
              "<svg xmlns=\"http://www.w3.org/2000/svg\" height=\"24px\"viewBox=\"0 0 24 24\"\n",
              "     width=\"24px\">\n",
              "    <g>\n",
              "        <path d=\"M19 3H5c-1.1 0-2 .9-2 2v14c0 1.1.9 2 2 2h14c1.1 0 2-.9 2-2V5c0-1.1-.9-2-2-2zM9 17H7v-7h2v7zm4 0h-2V7h2v10zm4 0h-2v-4h2v4z\"/>\n",
              "    </g>\n",
              "</svg>\n",
              "  </button>\n",
              "\n",
              "<style>\n",
              "  .colab-df-quickchart {\n",
              "      --bg-color: #E8F0FE;\n",
              "      --fill-color: #1967D2;\n",
              "      --hover-bg-color: #E2EBFA;\n",
              "      --hover-fill-color: #174EA6;\n",
              "      --disabled-fill-color: #AAA;\n",
              "      --disabled-bg-color: #DDD;\n",
              "  }\n",
              "\n",
              "  [theme=dark] .colab-df-quickchart {\n",
              "      --bg-color: #3B4455;\n",
              "      --fill-color: #D2E3FC;\n",
              "      --hover-bg-color: #434B5C;\n",
              "      --hover-fill-color: #FFFFFF;\n",
              "      --disabled-bg-color: #3B4455;\n",
              "      --disabled-fill-color: #666;\n",
              "  }\n",
              "\n",
              "  .colab-df-quickchart {\n",
              "    background-color: var(--bg-color);\n",
              "    border: none;\n",
              "    border-radius: 50%;\n",
              "    cursor: pointer;\n",
              "    display: none;\n",
              "    fill: var(--fill-color);\n",
              "    height: 32px;\n",
              "    padding: 0;\n",
              "    width: 32px;\n",
              "  }\n",
              "\n",
              "  .colab-df-quickchart:hover {\n",
              "    background-color: var(--hover-bg-color);\n",
              "    box-shadow: 0 1px 2px rgba(60, 64, 67, 0.3), 0 1px 3px 1px rgba(60, 64, 67, 0.15);\n",
              "    fill: var(--button-hover-fill-color);\n",
              "  }\n",
              "\n",
              "  .colab-df-quickchart-complete:disabled,\n",
              "  .colab-df-quickchart-complete:disabled:hover {\n",
              "    background-color: var(--disabled-bg-color);\n",
              "    fill: var(--disabled-fill-color);\n",
              "    box-shadow: none;\n",
              "  }\n",
              "\n",
              "  .colab-df-spinner {\n",
              "    border: 2px solid var(--fill-color);\n",
              "    border-color: transparent;\n",
              "    border-bottom-color: var(--fill-color);\n",
              "    animation:\n",
              "      spin 1s steps(1) infinite;\n",
              "  }\n",
              "\n",
              "  @keyframes spin {\n",
              "    0% {\n",
              "      border-color: transparent;\n",
              "      border-bottom-color: var(--fill-color);\n",
              "      border-left-color: var(--fill-color);\n",
              "    }\n",
              "    20% {\n",
              "      border-color: transparent;\n",
              "      border-left-color: var(--fill-color);\n",
              "      border-top-color: var(--fill-color);\n",
              "    }\n",
              "    30% {\n",
              "      border-color: transparent;\n",
              "      border-left-color: var(--fill-color);\n",
              "      border-top-color: var(--fill-color);\n",
              "      border-right-color: var(--fill-color);\n",
              "    }\n",
              "    40% {\n",
              "      border-color: transparent;\n",
              "      border-right-color: var(--fill-color);\n",
              "      border-top-color: var(--fill-color);\n",
              "    }\n",
              "    60% {\n",
              "      border-color: transparent;\n",
              "      border-right-color: var(--fill-color);\n",
              "    }\n",
              "    80% {\n",
              "      border-color: transparent;\n",
              "      border-right-color: var(--fill-color);\n",
              "      border-bottom-color: var(--fill-color);\n",
              "    }\n",
              "    90% {\n",
              "      border-color: transparent;\n",
              "      border-bottom-color: var(--fill-color);\n",
              "    }\n",
              "  }\n",
              "</style>\n",
              "\n",
              "  <script>\n",
              "    async function quickchart(key) {\n",
              "      const quickchartButtonEl =\n",
              "        document.querySelector('#' + key + ' button');\n",
              "      quickchartButtonEl.disabled = true;  // To prevent multiple clicks.\n",
              "      quickchartButtonEl.classList.add('colab-df-spinner');\n",
              "      try {\n",
              "        const charts = await google.colab.kernel.invokeFunction(\n",
              "            'suggestCharts', [key], {});\n",
              "      } catch (error) {\n",
              "        console.error('Error during call to suggestCharts:', error);\n",
              "      }\n",
              "      quickchartButtonEl.classList.remove('colab-df-spinner');\n",
              "      quickchartButtonEl.classList.add('colab-df-quickchart-complete');\n",
              "    }\n",
              "    (() => {\n",
              "      let quickchartButtonEl =\n",
              "        document.querySelector('#df-1f585711-6d21-4f8f-b3f1-a048a3703930 button');\n",
              "      quickchartButtonEl.style.display =\n",
              "        google.colab.kernel.accessAllowed ? 'block' : 'none';\n",
              "    })();\n",
              "  </script>\n",
              "</div>\n",
              "    </div>\n",
              "  </div>\n"
            ]
          },
          "metadata": {},
          "execution_count": 27
        }
      ]
    },
    {
      "cell_type": "code",
      "source": [
        "extract_data[1:6]"
      ],
      "metadata": {
        "colab": {
          "base_uri": "https://localhost:8080/",
          "height": 293
        },
        "id": "khsC-BuyrC_B",
        "outputId": "d23f1273-4b26-4d0d-c0e2-0ef59b07c2ac"
      },
      "execution_count": 28,
      "outputs": [
        {
          "output_type": "execute_result",
          "data": {
            "text/plain": [
              "         Name          Designation           Domain        Contact  \\\n",
              "1       Selva         DATA MANAGER         digitals  +123-456-7891   \n",
              "2  Amit Kumar        CEO & FOUNDER        INSURANCE   123-456-7569   \n",
              "3    KARTHICK      General Manager         AIRLINES  +123-456-7890   \n",
              "4     REVANTH  Marketing Executive       Restaurant   +91-456-1234   \n",
              "5    SANTHOSH    Technical Manager  Sun Electricals  +123-456-1234   \n",
              "\n",
              "                E-mail            Website     Address   District      State  \\\n",
              "1       hello@XYZI.com       WWW.XYZI.com  123 ABC St    Chennai  TamilNadu   \n",
              "2     hello@global.com     WWW.global.com  123 global      Erode  TamilNadu   \n",
              "3   hello@Borcelle.com  WWW. Borcelle.com  123 ABC St      Salem  TamilNadu   \n",
              "4  hello@CHRISTMAS.com  WWW.CHRISTMAS.com  123 ABC St   HYDRABAD  TamilNadu   \n",
              "5        hello@Sun.com         WWWSun.com  123 ABC St    Tirupur  TamilNadu   \n",
              "\n",
              "   Pincode  \n",
              "1   600113  \n",
              "2   600115  \n",
              "3   600451  \n",
              "4   600001  \n",
              "5   641603  "
            ],
            "text/html": [
              "\n",
              "  <div id=\"df-5757fb9b-8597-4d3b-a375-f4515427285b\" class=\"colab-df-container\">\n",
              "    <div>\n",
              "<style scoped>\n",
              "    .dataframe tbody tr th:only-of-type {\n",
              "        vertical-align: middle;\n",
              "    }\n",
              "\n",
              "    .dataframe tbody tr th {\n",
              "        vertical-align: top;\n",
              "    }\n",
              "\n",
              "    .dataframe thead th {\n",
              "        text-align: right;\n",
              "    }\n",
              "</style>\n",
              "<table border=\"1\" class=\"dataframe\">\n",
              "  <thead>\n",
              "    <tr style=\"text-align: right;\">\n",
              "      <th></th>\n",
              "      <th>Name</th>\n",
              "      <th>Designation</th>\n",
              "      <th>Domain</th>\n",
              "      <th>Contact</th>\n",
              "      <th>E-mail</th>\n",
              "      <th>Website</th>\n",
              "      <th>Address</th>\n",
              "      <th>District</th>\n",
              "      <th>State</th>\n",
              "      <th>Pincode</th>\n",
              "    </tr>\n",
              "  </thead>\n",
              "  <tbody>\n",
              "    <tr>\n",
              "      <th>1</th>\n",
              "      <td>Selva</td>\n",
              "      <td>DATA MANAGER</td>\n",
              "      <td>digitals</td>\n",
              "      <td>+123-456-7891</td>\n",
              "      <td>hello@XYZI.com</td>\n",
              "      <td>WWW.XYZI.com</td>\n",
              "      <td>123 ABC St</td>\n",
              "      <td>Chennai</td>\n",
              "      <td>TamilNadu</td>\n",
              "      <td>600113</td>\n",
              "    </tr>\n",
              "    <tr>\n",
              "      <th>2</th>\n",
              "      <td>Amit Kumar</td>\n",
              "      <td>CEO &amp; FOUNDER</td>\n",
              "      <td>INSURANCE</td>\n",
              "      <td>123-456-7569</td>\n",
              "      <td>hello@global.com</td>\n",
              "      <td>WWW.global.com</td>\n",
              "      <td>123 global</td>\n",
              "      <td>Erode</td>\n",
              "      <td>TamilNadu</td>\n",
              "      <td>600115</td>\n",
              "    </tr>\n",
              "    <tr>\n",
              "      <th>3</th>\n",
              "      <td>KARTHICK</td>\n",
              "      <td>General Manager</td>\n",
              "      <td>AIRLINES</td>\n",
              "      <td>+123-456-7890</td>\n",
              "      <td>hello@Borcelle.com</td>\n",
              "      <td>WWW. Borcelle.com</td>\n",
              "      <td>123 ABC St</td>\n",
              "      <td>Salem</td>\n",
              "      <td>TamilNadu</td>\n",
              "      <td>600451</td>\n",
              "    </tr>\n",
              "    <tr>\n",
              "      <th>4</th>\n",
              "      <td>REVANTH</td>\n",
              "      <td>Marketing Executive</td>\n",
              "      <td>Restaurant</td>\n",
              "      <td>+91-456-1234</td>\n",
              "      <td>hello@CHRISTMAS.com</td>\n",
              "      <td>WWW.CHRISTMAS.com</td>\n",
              "      <td>123 ABC St</td>\n",
              "      <td>HYDRABAD</td>\n",
              "      <td>TamilNadu</td>\n",
              "      <td>600001</td>\n",
              "    </tr>\n",
              "    <tr>\n",
              "      <th>5</th>\n",
              "      <td>SANTHOSH</td>\n",
              "      <td>Technical Manager</td>\n",
              "      <td>Sun Electricals</td>\n",
              "      <td>+123-456-1234</td>\n",
              "      <td>hello@Sun.com</td>\n",
              "      <td>WWWSun.com</td>\n",
              "      <td>123 ABC St</td>\n",
              "      <td>Tirupur</td>\n",
              "      <td>TamilNadu</td>\n",
              "      <td>641603</td>\n",
              "    </tr>\n",
              "  </tbody>\n",
              "</table>\n",
              "</div>\n",
              "    <div class=\"colab-df-buttons\">\n",
              "\n",
              "  <div class=\"colab-df-container\">\n",
              "    <button class=\"colab-df-convert\" onclick=\"convertToInteractive('df-5757fb9b-8597-4d3b-a375-f4515427285b')\"\n",
              "            title=\"Convert this dataframe to an interactive table.\"\n",
              "            style=\"display:none;\">\n",
              "\n",
              "  <svg xmlns=\"http://www.w3.org/2000/svg\" height=\"24px\" viewBox=\"0 -960 960 960\">\n",
              "    <path d=\"M120-120v-720h720v720H120Zm60-500h600v-160H180v160Zm220 220h160v-160H400v160Zm0 220h160v-160H400v160ZM180-400h160v-160H180v160Zm440 0h160v-160H620v160ZM180-180h160v-160H180v160Zm440 0h160v-160H620v160Z\"/>\n",
              "  </svg>\n",
              "    </button>\n",
              "\n",
              "  <style>\n",
              "    .colab-df-container {\n",
              "      display:flex;\n",
              "      gap: 12px;\n",
              "    }\n",
              "\n",
              "    .colab-df-convert {\n",
              "      background-color: #E8F0FE;\n",
              "      border: none;\n",
              "      border-radius: 50%;\n",
              "      cursor: pointer;\n",
              "      display: none;\n",
              "      fill: #1967D2;\n",
              "      height: 32px;\n",
              "      padding: 0 0 0 0;\n",
              "      width: 32px;\n",
              "    }\n",
              "\n",
              "    .colab-df-convert:hover {\n",
              "      background-color: #E2EBFA;\n",
              "      box-shadow: 0px 1px 2px rgba(60, 64, 67, 0.3), 0px 1px 3px 1px rgba(60, 64, 67, 0.15);\n",
              "      fill: #174EA6;\n",
              "    }\n",
              "\n",
              "    .colab-df-buttons div {\n",
              "      margin-bottom: 4px;\n",
              "    }\n",
              "\n",
              "    [theme=dark] .colab-df-convert {\n",
              "      background-color: #3B4455;\n",
              "      fill: #D2E3FC;\n",
              "    }\n",
              "\n",
              "    [theme=dark] .colab-df-convert:hover {\n",
              "      background-color: #434B5C;\n",
              "      box-shadow: 0px 1px 3px 1px rgba(0, 0, 0, 0.15);\n",
              "      filter: drop-shadow(0px 1px 2px rgba(0, 0, 0, 0.3));\n",
              "      fill: #FFFFFF;\n",
              "    }\n",
              "  </style>\n",
              "\n",
              "    <script>\n",
              "      const buttonEl =\n",
              "        document.querySelector('#df-5757fb9b-8597-4d3b-a375-f4515427285b button.colab-df-convert');\n",
              "      buttonEl.style.display =\n",
              "        google.colab.kernel.accessAllowed ? 'block' : 'none';\n",
              "\n",
              "      async function convertToInteractive(key) {\n",
              "        const element = document.querySelector('#df-5757fb9b-8597-4d3b-a375-f4515427285b');\n",
              "        const dataTable =\n",
              "          await google.colab.kernel.invokeFunction('convertToInteractive',\n",
              "                                                    [key], {});\n",
              "        if (!dataTable) return;\n",
              "\n",
              "        const docLinkHtml = 'Like what you see? Visit the ' +\n",
              "          '<a target=\"_blank\" href=https://colab.research.google.com/notebooks/data_table.ipynb>data table notebook</a>'\n",
              "          + ' to learn more about interactive tables.';\n",
              "        element.innerHTML = '';\n",
              "        dataTable['output_type'] = 'display_data';\n",
              "        await google.colab.output.renderOutput(dataTable, element);\n",
              "        const docLink = document.createElement('div');\n",
              "        docLink.innerHTML = docLinkHtml;\n",
              "        element.appendChild(docLink);\n",
              "      }\n",
              "    </script>\n",
              "  </div>\n",
              "\n",
              "\n",
              "<div id=\"df-93918698-0929-4c73-8679-6581611f359c\">\n",
              "  <button class=\"colab-df-quickchart\" onclick=\"quickchart('df-93918698-0929-4c73-8679-6581611f359c')\"\n",
              "            title=\"Suggest charts.\"\n",
              "            style=\"display:none;\">\n",
              "\n",
              "<svg xmlns=\"http://www.w3.org/2000/svg\" height=\"24px\"viewBox=\"0 0 24 24\"\n",
              "     width=\"24px\">\n",
              "    <g>\n",
              "        <path d=\"M19 3H5c-1.1 0-2 .9-2 2v14c0 1.1.9 2 2 2h14c1.1 0 2-.9 2-2V5c0-1.1-.9-2-2-2zM9 17H7v-7h2v7zm4 0h-2V7h2v10zm4 0h-2v-4h2v4z\"/>\n",
              "    </g>\n",
              "</svg>\n",
              "  </button>\n",
              "\n",
              "<style>\n",
              "  .colab-df-quickchart {\n",
              "      --bg-color: #E8F0FE;\n",
              "      --fill-color: #1967D2;\n",
              "      --hover-bg-color: #E2EBFA;\n",
              "      --hover-fill-color: #174EA6;\n",
              "      --disabled-fill-color: #AAA;\n",
              "      --disabled-bg-color: #DDD;\n",
              "  }\n",
              "\n",
              "  [theme=dark] .colab-df-quickchart {\n",
              "      --bg-color: #3B4455;\n",
              "      --fill-color: #D2E3FC;\n",
              "      --hover-bg-color: #434B5C;\n",
              "      --hover-fill-color: #FFFFFF;\n",
              "      --disabled-bg-color: #3B4455;\n",
              "      --disabled-fill-color: #666;\n",
              "  }\n",
              "\n",
              "  .colab-df-quickchart {\n",
              "    background-color: var(--bg-color);\n",
              "    border: none;\n",
              "    border-radius: 50%;\n",
              "    cursor: pointer;\n",
              "    display: none;\n",
              "    fill: var(--fill-color);\n",
              "    height: 32px;\n",
              "    padding: 0;\n",
              "    width: 32px;\n",
              "  }\n",
              "\n",
              "  .colab-df-quickchart:hover {\n",
              "    background-color: var(--hover-bg-color);\n",
              "    box-shadow: 0 1px 2px rgba(60, 64, 67, 0.3), 0 1px 3px 1px rgba(60, 64, 67, 0.15);\n",
              "    fill: var(--button-hover-fill-color);\n",
              "  }\n",
              "\n",
              "  .colab-df-quickchart-complete:disabled,\n",
              "  .colab-df-quickchart-complete:disabled:hover {\n",
              "    background-color: var(--disabled-bg-color);\n",
              "    fill: var(--disabled-fill-color);\n",
              "    box-shadow: none;\n",
              "  }\n",
              "\n",
              "  .colab-df-spinner {\n",
              "    border: 2px solid var(--fill-color);\n",
              "    border-color: transparent;\n",
              "    border-bottom-color: var(--fill-color);\n",
              "    animation:\n",
              "      spin 1s steps(1) infinite;\n",
              "  }\n",
              "\n",
              "  @keyframes spin {\n",
              "    0% {\n",
              "      border-color: transparent;\n",
              "      border-bottom-color: var(--fill-color);\n",
              "      border-left-color: var(--fill-color);\n",
              "    }\n",
              "    20% {\n",
              "      border-color: transparent;\n",
              "      border-left-color: var(--fill-color);\n",
              "      border-top-color: var(--fill-color);\n",
              "    }\n",
              "    30% {\n",
              "      border-color: transparent;\n",
              "      border-left-color: var(--fill-color);\n",
              "      border-top-color: var(--fill-color);\n",
              "      border-right-color: var(--fill-color);\n",
              "    }\n",
              "    40% {\n",
              "      border-color: transparent;\n",
              "      border-right-color: var(--fill-color);\n",
              "      border-top-color: var(--fill-color);\n",
              "    }\n",
              "    60% {\n",
              "      border-color: transparent;\n",
              "      border-right-color: var(--fill-color);\n",
              "    }\n",
              "    80% {\n",
              "      border-color: transparent;\n",
              "      border-right-color: var(--fill-color);\n",
              "      border-bottom-color: var(--fill-color);\n",
              "    }\n",
              "    90% {\n",
              "      border-color: transparent;\n",
              "      border-bottom-color: var(--fill-color);\n",
              "    }\n",
              "  }\n",
              "</style>\n",
              "\n",
              "  <script>\n",
              "    async function quickchart(key) {\n",
              "      const quickchartButtonEl =\n",
              "        document.querySelector('#' + key + ' button');\n",
              "      quickchartButtonEl.disabled = true;  // To prevent multiple clicks.\n",
              "      quickchartButtonEl.classList.add('colab-df-spinner');\n",
              "      try {\n",
              "        const charts = await google.colab.kernel.invokeFunction(\n",
              "            'suggestCharts', [key], {});\n",
              "      } catch (error) {\n",
              "        console.error('Error during call to suggestCharts:', error);\n",
              "      }\n",
              "      quickchartButtonEl.classList.remove('colab-df-spinner');\n",
              "      quickchartButtonEl.classList.add('colab-df-quickchart-complete');\n",
              "    }\n",
              "    (() => {\n",
              "      let quickchartButtonEl =\n",
              "        document.querySelector('#df-93918698-0929-4c73-8679-6581611f359c button');\n",
              "      quickchartButtonEl.style.display =\n",
              "        google.colab.kernel.accessAllowed ? 'block' : 'none';\n",
              "    })();\n",
              "  </script>\n",
              "</div>\n",
              "    </div>\n",
              "  </div>\n"
            ]
          },
          "metadata": {},
          "execution_count": 28
        }
      ]
    },
    {
      "cell_type": "code",
      "source": [
        "pip install nb2xls"
      ],
      "metadata": {
        "colab": {
          "base_uri": "https://localhost:8080/"
        },
        "id": "l-_PGdCgrDCk",
        "outputId": "9b16ad5b-19af-47ff-cfbb-6e2bc5909116"
      },
      "execution_count": 29,
      "outputs": [
        {
          "output_type": "stream",
          "name": "stdout",
          "text": [
            "Collecting nb2xls\n",
            "  Downloading nb2xls-0.1.6.tar.gz (10 kB)\n",
            "  Preparing metadata (setup.py) ... \u001b[?25l\u001b[?25hdone\n",
            "Requirement already satisfied: nbconvert>=5.0.0 in /usr/local/lib/python3.10/dist-packages (from nb2xls) (6.5.4)\n",
            "Collecting xlsxwriter>=1.1.0 (from nb2xls)\n",
            "  Downloading XlsxWriter-3.1.6-py3-none-any.whl (154 kB)\n",
            "\u001b[2K     \u001b[90m━━━━━━━━━━━━━━━━━━━━━━━━━━━━━━━━━━━━━━━\u001b[0m \u001b[32m154.3/154.3 kB\u001b[0m \u001b[31m4.0 MB/s\u001b[0m eta \u001b[36m0:00:00\u001b[0m\n",
            "\u001b[?25hRequirement already satisfied: beautifulsoup4>=4.6.0 in /usr/local/lib/python3.10/dist-packages (from nb2xls) (4.11.2)\n",
            "Collecting pypng>=0.0.18 (from nb2xls)\n",
            "  Downloading pypng-0.20220715.0-py3-none-any.whl (58 kB)\n",
            "\u001b[2K     \u001b[90m━━━━━━━━━━━━━━━━━━━━━━━━━━━━━━━━━━━━━━━━\u001b[0m \u001b[32m58.1/58.1 kB\u001b[0m \u001b[31m7.3 MB/s\u001b[0m eta \u001b[36m0:00:00\u001b[0m\n",
            "\u001b[?25hRequirement already satisfied: mistune>=0.8 in /usr/local/lib/python3.10/dist-packages (from nb2xls) (0.8.4)\n",
            "Requirement already satisfied: pandas in /usr/local/lib/python3.10/dist-packages (from nb2xls) (1.5.3)\n",
            "Requirement already satisfied: numpy in /usr/local/lib/python3.10/dist-packages (from nb2xls) (1.23.5)\n",
            "Requirement already satisfied: soupsieve>1.2 in /usr/local/lib/python3.10/dist-packages (from beautifulsoup4>=4.6.0->nb2xls) (2.5)\n",
            "Requirement already satisfied: lxml in /usr/local/lib/python3.10/dist-packages (from nbconvert>=5.0.0->nb2xls) (4.9.3)\n",
            "Requirement already satisfied: bleach in /usr/local/lib/python3.10/dist-packages (from nbconvert>=5.0.0->nb2xls) (6.0.0)\n",
            "Requirement already satisfied: defusedxml in /usr/local/lib/python3.10/dist-packages (from nbconvert>=5.0.0->nb2xls) (0.7.1)\n",
            "Requirement already satisfied: entrypoints>=0.2.2 in /usr/local/lib/python3.10/dist-packages (from nbconvert>=5.0.0->nb2xls) (0.4)\n",
            "Requirement already satisfied: jinja2>=3.0 in /usr/local/lib/python3.10/dist-packages (from nbconvert>=5.0.0->nb2xls) (3.1.2)\n",
            "Requirement already satisfied: jupyter-core>=4.7 in /usr/local/lib/python3.10/dist-packages (from nbconvert>=5.0.0->nb2xls) (5.3.1)\n",
            "Requirement already satisfied: jupyterlab-pygments in /usr/local/lib/python3.10/dist-packages (from nbconvert>=5.0.0->nb2xls) (0.2.2)\n",
            "Requirement already satisfied: MarkupSafe>=2.0 in /usr/local/lib/python3.10/dist-packages (from nbconvert>=5.0.0->nb2xls) (2.1.3)\n",
            "Requirement already satisfied: nbclient>=0.5.0 in /usr/local/lib/python3.10/dist-packages (from nbconvert>=5.0.0->nb2xls) (0.8.0)\n",
            "Requirement already satisfied: nbformat>=5.1 in /usr/local/lib/python3.10/dist-packages (from nbconvert>=5.0.0->nb2xls) (5.9.2)\n",
            "Requirement already satisfied: packaging in /usr/local/lib/python3.10/dist-packages (from nbconvert>=5.0.0->nb2xls) (23.1)\n",
            "Requirement already satisfied: pandocfilters>=1.4.1 in /usr/local/lib/python3.10/dist-packages (from nbconvert>=5.0.0->nb2xls) (1.5.0)\n",
            "Requirement already satisfied: pygments>=2.4.1 in /usr/local/lib/python3.10/dist-packages (from nbconvert>=5.0.0->nb2xls) (2.16.1)\n",
            "Requirement already satisfied: tinycss2 in /usr/local/lib/python3.10/dist-packages (from nbconvert>=5.0.0->nb2xls) (1.2.1)\n",
            "Requirement already satisfied: traitlets>=5.0 in /usr/local/lib/python3.10/dist-packages (from nbconvert>=5.0.0->nb2xls) (5.7.1)\n",
            "Requirement already satisfied: python-dateutil>=2.8.1 in /usr/local/lib/python3.10/dist-packages (from pandas->nb2xls) (2.8.2)\n",
            "Requirement already satisfied: pytz>=2020.1 in /usr/local/lib/python3.10/dist-packages (from pandas->nb2xls) (2023.3.post1)\n",
            "Requirement already satisfied: platformdirs>=2.5 in /usr/local/lib/python3.10/dist-packages (from jupyter-core>=4.7->nbconvert>=5.0.0->nb2xls) (3.10.0)\n",
            "Requirement already satisfied: jupyter-client>=6.1.12 in /usr/local/lib/python3.10/dist-packages (from nbclient>=0.5.0->nbconvert>=5.0.0->nb2xls) (6.1.12)\n",
            "Requirement already satisfied: fastjsonschema in /usr/local/lib/python3.10/dist-packages (from nbformat>=5.1->nbconvert>=5.0.0->nb2xls) (2.18.0)\n",
            "Requirement already satisfied: jsonschema>=2.6 in /usr/local/lib/python3.10/dist-packages (from nbformat>=5.1->nbconvert>=5.0.0->nb2xls) (4.19.0)\n",
            "Requirement already satisfied: six>=1.5 in /usr/local/lib/python3.10/dist-packages (from python-dateutil>=2.8.1->pandas->nb2xls) (1.16.0)\n",
            "Requirement already satisfied: webencodings in /usr/local/lib/python3.10/dist-packages (from bleach->nbconvert>=5.0.0->nb2xls) (0.5.1)\n",
            "Requirement already satisfied: attrs>=22.2.0 in /usr/local/lib/python3.10/dist-packages (from jsonschema>=2.6->nbformat>=5.1->nbconvert>=5.0.0->nb2xls) (23.1.0)\n",
            "Requirement already satisfied: jsonschema-specifications>=2023.03.6 in /usr/local/lib/python3.10/dist-packages (from jsonschema>=2.6->nbformat>=5.1->nbconvert>=5.0.0->nb2xls) (2023.7.1)\n",
            "Requirement already satisfied: referencing>=0.28.4 in /usr/local/lib/python3.10/dist-packages (from jsonschema>=2.6->nbformat>=5.1->nbconvert>=5.0.0->nb2xls) (0.30.2)\n",
            "Requirement already satisfied: rpds-py>=0.7.1 in /usr/local/lib/python3.10/dist-packages (from jsonschema>=2.6->nbformat>=5.1->nbconvert>=5.0.0->nb2xls) (0.10.2)\n",
            "Requirement already satisfied: pyzmq>=13 in /usr/local/lib/python3.10/dist-packages (from jupyter-client>=6.1.12->nbclient>=0.5.0->nbconvert>=5.0.0->nb2xls) (23.2.1)\n",
            "Requirement already satisfied: tornado>=4.1 in /usr/local/lib/python3.10/dist-packages (from jupyter-client>=6.1.12->nbclient>=0.5.0->nbconvert>=5.0.0->nb2xls) (6.3.2)\n",
            "Building wheels for collected packages: nb2xls\n",
            "  Building wheel for nb2xls (setup.py) ... \u001b[?25l\u001b[?25hdone\n",
            "  Created wheel for nb2xls: filename=nb2xls-0.1.6-py3-none-any.whl size=9882 sha256=066f6f8c663dd33291f06df29992dc4c8036aeca88bc49a1c3fab19f7f1061b9\n",
            "  Stored in directory: /root/.cache/pip/wheels/95/24/3b/9756a25d4f0ddc8b731658465e6a145158bd6efc2f2895d45b\n",
            "Successfully built nb2xls\n",
            "Installing collected packages: pypng, xlsxwriter, nb2xls\n",
            "Successfully installed nb2xls-0.1.6 pypng-0.20220715.0 xlsxwriter-3.1.6\n"
          ]
        }
      ]
    }
  ]
}